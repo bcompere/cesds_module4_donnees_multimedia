{
 "cells": [
  {
   "cell_type": "markdown",
   "metadata": {},
   "source": [
    "### Importation des packages"
   ]
  },
  {
   "cell_type": "code",
   "execution_count": 2,
   "metadata": {},
   "outputs": [],
   "source": [
    "import numpy as np\n",
    "import cv2\n",
    "import matplotlib.pyplot as plt\n",
    "import pandas as pd\n",
    "from skimage import io, img_as_float\n",
    "from pathlib import Path\n",
    "from glob import glob"
   ]
  },
  {
   "cell_type": "code",
   "execution_count": 3,
   "metadata": {},
   "outputs": [],
   "source": [
    "img_test = cv2.imread('images\\image367.jpg')\n",
    "img_test_grey = cv2.cvtColor(img_test, cv2.COLOR_RGB2GRAY)"
   ]
  },
  {
   "cell_type": "code",
   "execution_count": 4,
   "metadata": {},
   "outputs": [
    {
     "data": {
      "text/plain": [
       "(0.5274439433976716, 43208.20784313726)"
      ]
     },
     "execution_count": 4,
     "metadata": {},
     "output_type": "execute_result"
    }
   ],
   "source": [
    "img_test_grey_float = img_as_float(img_test_grey)\n",
    "np.mean(img_test_grey_float), np.sum(img_test_grey_float)"
   ]
  },
  {
   "cell_type": "code",
   "execution_count": 5,
   "metadata": {},
   "outputs": [
    {
     "name": "stdout",
     "output_type": "stream",
     "text": [
      "[array([[1, 0, 3, ..., 3, 0, 0],\n",
      "       [1, 1, 0, ..., 1, 3, 0],\n",
      "       [1, 2, 2, ..., 1, 6, 0],\n",
      "       ...,\n",
      "       [1, 0, 0, ..., 0, 0, 0],\n",
      "       [1, 0, 0, ..., 0, 0, 0],\n",
      "       [1, 0, 0, ..., 0, 0, 0]], dtype=uint8), array([[3, 0, 0, ..., 0, 2, 2],\n",
      "       [1, 2, 0, ..., 0, 0, 0],\n",
      "       [0, 4, 1, ..., 3, 3, 1],\n",
      "       ...,\n",
      "       [0, 0, 1, ..., 0, 1, 0],\n",
      "       [0, 0, 1, ..., 0, 1, 0],\n",
      "       [0, 1, 1, ..., 0, 0, 0]], dtype=uint8), array([[0, 1, 0, ..., 2, 0, 2],\n",
      "       [0, 1, 0, ..., 2, 0, 2],\n",
      "       [0, 1, 0, ..., 2, 0, 2],\n",
      "       ...,\n",
      "       [0, 1, 0, ..., 0, 0, 0],\n",
      "       [0, 1, 0, ..., 0, 0, 0],\n",
      "       [0, 1, 0, ..., 0, 0, 0]], dtype=uint8), array([[ 70,  49,  46, ...,  30,  30,  26],\n",
      "       [ 88,  71,  83, ...,  29,  30,  27],\n",
      "       [ 46,  63,  93, ...,  29,  31,  30],\n",
      "       ...,\n",
      "       [137, 125, 111, ...,  36,  43,  56],\n",
      "       [157, 146, 130, ...,  40,  53,  66],\n",
      "       [166, 154, 137, ...,  47,  68,  79]], dtype=uint8), array([[0, 0, 0, ..., 0, 0, 0],\n",
      "       [0, 0, 0, ..., 0, 0, 0],\n",
      "       [0, 0, 0, ..., 0, 0, 0],\n",
      "       ...,\n",
      "       [0, 0, 0, ..., 0, 0, 0],\n",
      "       [0, 0, 0, ..., 0, 0, 0],\n",
      "       [0, 0, 0, ..., 0, 0, 0]], dtype=uint8), array([[1, 1, 2, ..., 1, 1, 1],\n",
      "       [1, 1, 0, ..., 2, 0, 0],\n",
      "       [2, 2, 1, ..., 1, 0, 3],\n",
      "       ...,\n",
      "       [1, 0, 0, ..., 0, 0, 1],\n",
      "       [1, 0, 0, ..., 0, 0, 1],\n",
      "       [1, 0, 0, ..., 0, 0, 1]], dtype=uint8)]\n"
     ]
    }
   ],
   "source": [
    "path=Path(\"images_tests\")\n",
    "path=path.glob(\"*.jpg\")\n",
    "images=[]\n",
    "\n",
    "for imagepath in path:\n",
    "        img=cv2.imread(str(imagepath))\n",
    "        img=cv2.cvtColor(img,cv2.COLOR_BGR2GRAY)                         \n",
    "        images.append(img)\n",
    "print(images)"
   ]
  },
  {
   "cell_type": "code",
   "execution_count": 9,
   "metadata": {},
   "outputs": [
    {
     "data": {
      "text/plain": [
       "array([75, 51, 51, ..., 47, 68, 80], dtype=uint32)"
      ]
     },
     "execution_count": 9,
     "metadata": {},
     "output_type": "execute_result"
    }
   ],
   "source": [
    "# images[0]\n",
    "# np.apply_along_axis(np.mean, axis = 1, arr = images)\n",
    "# images[0].shape\n",
    "\n",
    "test = np.array( images )\n",
    "test.shape\n",
    "\n",
    "# res = np.apply_along_axis(np.mean, axis=[1,2], arr = test)\n",
    "# res = np.apply_over_axes(np.mean, axis=0, arr = test)\n",
    "# res.shape\n",
    "# np.apply_along_axis(np.sum, 0, test.reshape([6,-1]))"
   ]
  },
  {
   "cell_type": "code",
   "execution_count": 7,
   "metadata": {},
   "outputs": [
    {
     "data": {
      "text/plain": [
       "(10515593, 12799752, 19697308, 6672703, 19501991)"
      ]
     },
     "execution_count": 7,
     "metadata": {},
     "output_type": "execute_result"
    }
   ],
   "source": [
    "np.sum(images[0]),np.sum(images[1]),np.sum(images[2]),np.sum(images[3]),np.sum(images[4])"
   ]
  },
  {
   "cell_type": "code",
   "execution_count": 8,
   "metadata": {},
   "outputs": [
    {
     "data": {
      "text/plain": [
       "(128.36417236328126,\n",
       " 156.24697265625,\n",
       " 240.445654296875,\n",
       " 81.45389404296876,\n",
       " 238.06141357421876)"
      ]
     },
     "execution_count": 8,
     "metadata": {},
     "output_type": "execute_result"
    }
   ],
   "source": [
    "np.mean(images[0]),np.mean(images[1]),np.mean(images[2]),np.mean(images[3]),np.mean(images[4])"
   ]
  },
  {
   "cell_type": "code",
   "execution_count": null,
   "metadata": {},
   "outputs": [],
   "source": []
  }
 ],
 "metadata": {
  "kernelspec": {
   "display_name": "base",
   "language": "python",
   "name": "python3"
  },
  "language_info": {
   "codemirror_mode": {
    "name": "ipython",
    "version": 3
   },
   "file_extension": ".py",
   "mimetype": "text/x-python",
   "name": "python",
   "nbconvert_exporter": "python",
   "pygments_lexer": "ipython3",
   "version": "3.10.8"
  },
  "orig_nbformat": 4,
  "vscode": {
   "interpreter": {
    "hash": "12698032aabe978bb2a236623c0de8841bb35404b35889b7a517eb45b7eea99a"
   }
  }
 },
 "nbformat": 4,
 "nbformat_minor": 2
}
